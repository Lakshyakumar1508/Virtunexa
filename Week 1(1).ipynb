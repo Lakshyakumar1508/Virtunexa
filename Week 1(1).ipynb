{
 "cells": [
  {
   "cell_type": "code",
   "execution_count": 1,
   "id": "06445bfb",
   "metadata": {},
   "outputs": [
    {
     "name": "stdout",
     "output_type": "stream",
     "text": [
      "Welcome to the Text Adventure Game!\n",
      "You wake up in a dark forest with two paths ahead.\n",
      "Do you take the left path or the right path? (left/right)\n",
      "> left\n",
      "You enter a dark cave. It's cold and damp.\n",
      "You see a treasure chest but hear a growl from the shadows.\n",
      "Do you open the chest or run? (open/run)\n",
      "> open\n",
      "You found gold but awakened a monster! You barely escape with your life.\n",
      "Thank you for playing! The adventure ends here.\n"
     ]
    }
   ],
   "source": [
    "import time\n",
    "\n",
    "def print_slow(text):\n",
    "    for char in text:\n",
    "        print(char, end='', flush=True)\n",
    "        time.sleep(0.03)\n",
    "    print()\n",
    "\n",
    "def start_game():\n",
    "    print_slow(\"Welcome to the Text Adventure Game!\")\n",
    "    print_slow(\"You wake up in a dark forest with two paths ahead.\")\n",
    "    choice1()\n",
    "\n",
    "def choice1():\n",
    "    print_slow(\"Do you take the left path or the right path? (left/right)\")\n",
    "    choice = input(\"> \").lower()\n",
    "    if choice == \"left\":\n",
    "        cave_adventure()\n",
    "    elif choice == \"right\":\n",
    "        village_adventure()\n",
    "    else:\n",
    "        print_slow(\"Invalid choice. Try again.\")\n",
    "        choice1()\n",
    "\n",
    "def cave_adventure():\n",
    "    print_slow(\"You enter a dark cave. It's cold and damp.\")\n",
    "    print_slow(\"You see a treasure chest but hear a growl from the shadows.\")\n",
    "    print_slow(\"Do you open the chest or run? (open/run)\")\n",
    "    choice = input(\"> \").lower()\n",
    "    if choice == \"open\":\n",
    "        print_slow(\"You found gold but awakened a monster! You barely escape with your life.\")\n",
    "        end_game()\n",
    "    elif choice == \"run\":\n",
    "        print_slow(\"You safely exit the cave and continue your journey.\")\n",
    "        choice1()\n",
    "    else:\n",
    "        print_slow(\"Invalid choice. Try again.\")\n",
    "        cave_adventure()\n",
    "\n",
    "def village_adventure():\n",
    "    print_slow(\"You arrive at a small village.\")\n",
    "    print_slow(\"A merchant offers you a mysterious map. Do you buy it? (yes/no)\")\n",
    "    choice = input(\"> \").lower()\n",
    "    if choice == \"yes\":\n",
    "        print_slow(\"The map leads you to a hidden temple filled with treasure!\")\n",
    "        end_game()\n",
    "    elif choice == \"no\":\n",
    "        print_slow(\"You decline and continue wandering, missing out on a great adventure.\")\n",
    "        choice1()\n",
    "    else:\n",
    "        print_slow(\"Invalid choice. Try again.\")\n",
    "        village_adventure()\n",
    "\n",
    "def end_game():\n",
    "    print_slow(\"Thank you for playing! The adventure ends here.\")\n",
    "    exit()\n",
    "\n",
    "if __name__ == \"__main__\":\n",
    "    start_game()\n"
   ]
  },
  {
   "cell_type": "raw",
   "id": "c61b78b7",
   "metadata": {},
   "source": []
  }
 ],
 "metadata": {
  "kernelspec": {
   "display_name": "Python 3 (ipykernel)",
   "language": "python",
   "name": "python3"
  },
  "language_info": {
   "codemirror_mode": {
    "name": "ipython",
    "version": 3
   },
   "file_extension": ".py",
   "mimetype": "text/x-python",
   "name": "python",
   "nbconvert_exporter": "python",
   "pygments_lexer": "ipython3",
   "version": "3.11.5"
  }
 },
 "nbformat": 4,
 "nbformat_minor": 5
}
